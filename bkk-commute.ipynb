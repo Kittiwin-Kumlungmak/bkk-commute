{
 "cells": [
  {
   "cell_type": "code",
   "execution_count": 7,
   "id": "e1bbd9cb-f4d5-4a0c-be9b-3b470b62124b",
   "metadata": {},
   "outputs": [],
   "source": [
    "import pandas as pd"
   ]
  },
  {
   "cell_type": "code",
   "execution_count": 8,
   "id": "bc09c97d-3de5-4570-bec9-762239127357",
   "metadata": {},
   "outputs": [],
   "source": [
    "# Load data\n",
    "apl_df = pd.read_json('ready-data/nodes-apr.json')\n",
    "bts_df = pd.read_json('ready-data/nodes-bts.json')\n",
    "mrt_df = pd.read_json('ready-data/nodes-mrt.json')\n",
    "taxi_df = pd.read_json('ready-data/nodes-taxi.json')\n",
    "inter_df = pd.read_json('ready-data/nodes-inter.json')\n",
    "geo_dist_df = pd.read_json('ready-data/nodes-geo_dist.json')\n",
    "inter_list = list(inter_df.set_index('origins').index)"
   ]
  },
  {
   "cell_type": "code",
   "execution_count": 9,
   "id": "02bd5139-1fb3-4859-8032-c02500ae36ed",
   "metadata": {},
   "outputs": [
    {
     "name": "stdout",
     "output_type": "stream",
     "text": [
      "12.484245959663399\n"
     ]
    }
   ],
   "source": [
    "duration_avg = apl_df['duration'].append(bts_df['duration'].append(mrt_df['duration'].append(taxi_df['duration']))).mean()\n",
    "cost_avg = apl_df['cost'].append(bts_df['cost'].append(mrt_df['cost'].append(taxi_df['cost']))).mean()\n",
    "ratio = duration_avg/cost_avg\n",
    "print(ratio)"
   ]
  },
  {
   "cell_type": "code",
   "execution_count": 10,
   "id": "f7f9f37c-896c-47b8-8d6e-24de00a0490f",
   "metadata": {},
   "outputs": [],
   "source": [
    "def gen_successors(node):\n",
    "    global last_index\n",
    "    state = node[0]\n",
    "    node_id = node[1]\n",
    "    parent_index = node[2]\n",
    "    level = node[3]\n",
    "    price = node[4]\n",
    "    duration = node[5]\n",
    "    fn = node[6]\n",
    "    goal_system = goal_state[:3]\n",
    "    ret = []\n",
    "    \n",
    "    #Go taxi\n",
    "    look = taxi_df\n",
    "    next_dest = list(look.set_index('origins').loc[state]['destination'])\n",
    "    for dest in next_dest:\n",
    "        if goal_state not in look.set_index('origins').loc[dest]['destination']:\n",
    "            continue\n",
    "                #(state, node_id, parent_id, level, price, time, f, system)\n",
    "        ret += [(dest, last_index+1, node_id, level+1, int(price+cal_price(state, dest, look)), int(duration+cal_time(state, dest, look)), int(sum_cost(price+cal_price(state, dest, look), duration+cal_time(state, dest, look))+g(dest, goal_state, taxi_df)), 'TAX')]\n",
    "        last_index += 1\n",
    "        \n",
    "    #check system\n",
    "    if node[7] == 'TAX':\n",
    "        system = state[:3]\n",
    "    else:\n",
    "        system = node[7]\n",
    "\n",
    "    #Go direct\n",
    "    if system == goal_system:\n",
    "        look = look_at(system)\n",
    "        next_dest = list(look.set_index('origins').loc[state]['destination'])\n",
    "        for dest in next_dest:\n",
    "                    #(state, node_id, parent_id, level, price, time, f, system)\n",
    "            ret += [(dest, last_index+1, node_id, level+1, int(price+cal_price(state, dest, look)), int(duration+cal_time(state, dest, look)), int(sum_cost(price+cal_price(state, dest, look), duration+cal_time(state, dest, look))+g(dest, goal_state, look)), system)]\n",
    "            last_index += 1\n",
    "            \n",
    "    #Go interchange\n",
    "    if system != goal_system:\n",
    "#         print(system)\n",
    "#         print(goal_system)\n",
    "        look = inter_df\n",
    "        inter = {} #{from : to}\n",
    "#         next_dest = []\n",
    "        for station in look['origins']:\n",
    "            if station[:3] == system:\n",
    "                inter[station] = ''\n",
    "        for station in inter.keys():\n",
    "            if look.set_index('origins').loc[station]['destination'][:3] == goal_system:\n",
    "                inter[station] = look.set_index('origins').loc[station]['destination']\n",
    "#                 next_dest += [look.set_index('origins').loc[station]['destination']]\n",
    "        for dest in inter.items(): \n",
    "            if dest[1] != '':\n",
    "                print(dest)\n",
    "                ret += [(dest[1], last_index+1, node_id, level+1, int(price+cal_price(state, dest[0], look_at(system))), int(duration+cal_time(state, dest[0], look_at(system))), int(sum_cost(price+cal_price(state, dest[0], look_at(system)), duration+cal_time(state, dest[0], look_at(system)))+g(dest[1], goal_state, look_at(dest[1][:3]) )), dest[1][:3])]\n",
    "                last_index += 1\n",
    "            \n",
    "    return ret\n",
    "\n",
    "def sum_cost(price, time):\n",
    "    return (time * time_ratio) + ((12.5 * price) * price_ratio)\n",
    "\n",
    "def look_at(system):\n",
    "    if system == 'MRT':\n",
    "        look = mrt_df\n",
    "    elif system == 'BTS':\n",
    "        look = bts_df\n",
    "    elif system == 'AIR':\n",
    "        look = apl_df\n",
    "    elif system == 'TAX':\n",
    "        look = taxi_df\n",
    "    return look\n",
    "\n",
    "def g(state, dest, look):\n",
    "    global time_ratio\n",
    "    global price_ratio\n",
    "    total_cost = 0\n",
    "    price = cal_price(state, dest, look)\n",
    "    time = cal_time(state, dest, look)\n",
    "    total_cost += (time * time_ratio) + ((12.5 * price) * price_ratio)\n",
    "    return total_cost\n",
    "\n",
    "def cal_price(state, dest, look):\n",
    "    if state == dest:\n",
    "        return 0\n",
    "    price = look.set_index('origins').loc[state].set_index('destination').loc[dest][2]\n",
    "    return price\n",
    "\n",
    "def cal_time(state, dest, look):\n",
    "    if state == dest:\n",
    "        return 0\n",
    "    time = look.set_index('origins').loc[state].set_index('destination').loc[dest][1]\n",
    "    return time\n",
    "\n",
    "# def h(state):#displacement\n",
    "#     if state == goal_state:\n",
    "#         return 0\n",
    "#     return geo_dist_df.set_index('origins').loc[state].set_index('destination').loc[goal_state][0]\n",
    "\n",
    "def is_goal(node):\n",
    "    return node[0] == goal_state\n",
    "\n",
    "def visited(child):\n",
    "    global visited_dest\n",
    "    visited_dest = set()\n",
    "    for i in visited_node.values():\n",
    "        visited_dest.add(i[0])\n",
    "    return child[0] in visited_dest\n",
    "    \n",
    "\n",
    "def insert_all(node, fringe):\n",
    "    global total_nodes\n",
    "    children = gen_successors(node)\n",
    "    total_nodes += len(children)\n",
    "    for child in children:\n",
    "        inserted = False\n",
    "        for j in range(len(fringe)):\n",
    "            if child[6] < fringe[j][6]:\n",
    "                if not visited(child):\n",
    "                    fringe[j:j] = [child]\n",
    "                inserted = True\n",
    "                break\n",
    "        if not inserted:\n",
    "            if not visited(child):\n",
    "                fringe.append(child)\n",
    "#     print(fringe)\n",
    "                \n",
    "def show_result(front):\n",
    "    global visited_node\n",
    "    current_node = front\n",
    "    parent_index = current_node[1]\n",
    "    print('Founded')\n",
    "    while True:\n",
    "        print(current_node)\n",
    "        parent_index = current_node[2]\n",
    "        if parent_index == -1:\n",
    "            break\n",
    "        current_node = visited_node[parent_index]\n",
    "                \n",
    "def a_star(start_node):\n",
    "    global last_index\n",
    "    global visited_node\n",
    "    global visited_dest\n",
    "    last_index = 0\n",
    "    fringe = [start_node]\n",
    "    visited_node = {}\n",
    "#     visited_dest = set()\n",
    "    while True:\n",
    "        if len(fringe) == 0:\n",
    "            print('Not found')\n",
    "            break\n",
    "        front = fringe[0]\n",
    "        visited_node[front[1]] = front\n",
    "#         visited_dest.add(front[0])\n",
    "        fringe = fringe[1:]\n",
    "        if is_goal(front):\n",
    "            show_result(front)\n",
    "            return True\n",
    "        print(front)\n",
    "        insert_all(front, fringe)"
   ]
  },
  {
   "cell_type": "code",
   "execution_count": 15,
   "id": "213754ec-51e9-4e07-a34e-a1edc3b411a6",
   "metadata": {},
   "outputs": [
    {
     "data": {
      "text/plain": [
       "('BTS คูคต', 0, -1, 0, 0, 0, 0, 'BTS')"
      ]
     },
     "execution_count": 15,
     "metadata": {},
     "output_type": "execute_result"
    }
   ],
   "source": [
    "start_state = 'BTS คูคต'\n",
    "goal_state = 'MRT สามย่าน'\n",
    "time_ratio = 0\n",
    "price_ratio = 1\n",
    "\n",
    "visited_node = {}\n",
    "last_index = 0\n",
    "total_nodes = 0\n",
    "#(state, node_id, parent_id, level, price, time, f, system)\n",
    "start_node = (start_state,0,-1,0,0,0,0,start_state[:3]) \n",
    "start_node"
   ]
  },
  {
   "cell_type": "code",
   "execution_count": 16,
   "id": "408a93ca-e282-4913-b8a9-7fb4aa310f3b",
   "metadata": {
    "tags": []
   },
   "outputs": [
    {
     "name": "stdout",
     "output_type": "stream",
     "text": [
      "('BTS คูคต', 0, -1, 0, 0, 0, 0, 'BTS')\n",
      "('BTS ห้าแยกลาดพร้าว', 'MRT พหลโยธิน')\n",
      "('BTS หมอชิต', 'MRT สวนจตุจักร')\n",
      "('BTS บางหว้า', 'MRT บางหว้า')\n",
      "('BTS ศาลาแดง', 'MRT สีลม')\n",
      "('BTS อโศก', 'MRT สุขุมวิท')\n",
      "('MRT พหลโยธิน', 2, 0, 1, 0, 1560, 525, 'MRT')\n",
      "('MRT สวนจตุจักร', 3, 0, 1, 0, 1740, 525, 'MRT')\n",
      "Founded\n",
      "('MRT สามย่าน', 39, 2, 2, 42, 3960, 525, 'MRT')\n",
      "('MRT พหลโยธิน', 2, 0, 1, 0, 1560, 525, 'MRT')\n",
      "('BTS คูคต', 0, -1, 0, 0, 0, 0, 'BTS')\n"
     ]
    },
    {
     "data": {
      "text/plain": [
       "True"
      ]
     },
     "execution_count": 16,
     "metadata": {},
     "output_type": "execute_result"
    }
   ],
   "source": [
    "a_star(start_node)"
   ]
  },
  {
   "cell_type": "code",
   "execution_count": 17,
   "id": "f0a60fb5-d331-4f92-bbe4-c2555c32d4ff",
   "metadata": {},
   "outputs": [
    {
     "data": {
      "text/plain": [
       "{0: ('BTS คูคต', 0, -1, 0, 0, 0, 0, 'BTS'),\n",
       " 2: ('MRT พหลโยธิน', 2, 0, 1, 0, 1560, 525, 'MRT'),\n",
       " 3: ('MRT สวนจตุจักร', 3, 0, 1, 0, 1740, 525, 'MRT'),\n",
       " 39: ('MRT สามย่าน', 39, 2, 2, 42, 3960, 525, 'MRT')}"
      ]
     },
     "execution_count": 17,
     "metadata": {},
     "output_type": "execute_result"
    }
   ],
   "source": [
    "#(state, node_id, parent_id, level, price, time, f, system)\n",
    "visited_node"
   ]
  },
  {
   "cell_type": "code",
   "execution_count": 19,
   "id": "f6e35780-534f-4c97-a7bc-47a08dccea60",
   "metadata": {},
   "outputs": [
    {
     "data": {
      "text/plain": [
       "{'BTS คูคต', 'MRT พหลโยธิน', 'MRT สวนจตุจักร'}"
      ]
     },
     "execution_count": 19,
     "metadata": {},
     "output_type": "execute_result"
    }
   ],
   "source": [
    "visited_dest"
   ]
  }
 ],
 "metadata": {
  "kernelspec": {
   "display_name": "Python 3",
   "language": "python",
   "name": "python3"
  },
  "language_info": {
   "codemirror_mode": {
    "name": "ipython",
    "version": 3
   },
   "file_extension": ".py",
   "mimetype": "text/x-python",
   "name": "python",
   "nbconvert_exporter": "python",
   "pygments_lexer": "ipython3",
   "version": "3.8.8"
  }
 },
 "nbformat": 4,
 "nbformat_minor": 5
}
