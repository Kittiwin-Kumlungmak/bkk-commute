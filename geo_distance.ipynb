{
 "cells": [
  {
   "cell_type": "code",
   "execution_count": 1,
   "id": "5ffe2a21",
   "metadata": {},
   "outputs": [],
   "source": [
    "import haversine as hs\n",
    "import pandas as pd"
   ]
  },
  {
   "cell_type": "code",
   "execution_count": 2,
   "id": "afb9d718",
   "metadata": {
    "tags": []
   },
   "outputs": [
    {
     "data": {
      "text/html": [
       "<div>\n",
       "<style scoped>\n",
       "    .dataframe tbody tr th:only-of-type {\n",
       "        vertical-align: middle;\n",
       "    }\n",
       "\n",
       "    .dataframe tbody tr th {\n",
       "        vertical-align: top;\n",
       "    }\n",
       "\n",
       "    .dataframe thead th {\n",
       "        text-align: right;\n",
       "    }\n",
       "</style>\n",
       "<table border=\"1\" class=\"dataframe\">\n",
       "  <thead>\n",
       "    <tr style=\"text-align: right;\">\n",
       "      <th></th>\n",
       "      <th>Station</th>\n",
       "      <th>Latitude</th>\n",
       "      <th>Longitude</th>\n",
       "    </tr>\n",
       "  </thead>\n",
       "  <tbody>\n",
       "    <tr>\n",
       "      <th>0</th>\n",
       "      <td>BTS คูคต</td>\n",
       "      <td>13.931680</td>\n",
       "      <td>100.643302</td>\n",
       "    </tr>\n",
       "    <tr>\n",
       "      <th>1</th>\n",
       "      <td>BTS แยก คปอ.</td>\n",
       "      <td>13.923586</td>\n",
       "      <td>100.625031</td>\n",
       "    </tr>\n",
       "    <tr>\n",
       "      <th>2</th>\n",
       "      <td>BTS พิพิธภัณฑ์กองทัพอากาศ</td>\n",
       "      <td>13.919899</td>\n",
       "      <td>100.621987</td>\n",
       "    </tr>\n",
       "    <tr>\n",
       "      <th>3</th>\n",
       "      <td>BTS โรงพยาบาลภูมิพลอดุลยเดช</td>\n",
       "      <td>13.909114</td>\n",
       "      <td>100.617736</td>\n",
       "    </tr>\n",
       "    <tr>\n",
       "      <th>4</th>\n",
       "      <td>BTS สะพานใหม่</td>\n",
       "      <td>13.896593</td>\n",
       "      <td>100.609129</td>\n",
       "    </tr>\n",
       "  </tbody>\n",
       "</table>\n",
       "</div>"
      ],
      "text/plain": [
       "                       Station   Latitude   Longitude\n",
       "0                     BTS คูคต  13.931680  100.643302\n",
       "1                 BTS แยก คปอ.  13.923586  100.625031\n",
       "2    BTS พิพิธภัณฑ์กองทัพอากาศ  13.919899  100.621987\n",
       "3  BTS โรงพยาบาลภูมิพลอดุลยเดช  13.909114  100.617736\n",
       "4                BTS สะพานใหม่  13.896593  100.609129"
      ]
     },
     "execution_count": 2,
     "metadata": {},
     "output_type": "execute_result"
    }
   ],
   "source": [
    "geo_bts_df = pd.read_csv('geo_bts.csv')\n",
    "geo_bts_df.drop('Unnamed: 3', axis=1, inplace= True)\n",
    "geo_bts_df.drop('Unnamed: 4', axis=1, inplace= True)\n",
    "geo_bts_df.drop('Unnamed: 5', axis=1, inplace= True)\n",
    "# geo_bts_df\n",
    "geo_bts_df.head()"
   ]
  },
  {
   "cell_type": "code",
   "execution_count": 3,
   "id": "ef5cfd9b",
   "metadata": {
    "tags": []
   },
   "outputs": [
    {
     "data": {
      "text/html": [
       "<div>\n",
       "<style scoped>\n",
       "    .dataframe tbody tr th:only-of-type {\n",
       "        vertical-align: middle;\n",
       "    }\n",
       "\n",
       "    .dataframe tbody tr th {\n",
       "        vertical-align: top;\n",
       "    }\n",
       "\n",
       "    .dataframe thead th {\n",
       "        text-align: right;\n",
       "    }\n",
       "</style>\n",
       "<table border=\"1\" class=\"dataframe\">\n",
       "  <thead>\n",
       "    <tr style=\"text-align: right;\">\n",
       "      <th></th>\n",
       "      <th>Station</th>\n",
       "      <th>Latitude</th>\n",
       "      <th>Longitude</th>\n",
       "    </tr>\n",
       "  </thead>\n",
       "  <tbody>\n",
       "    <tr>\n",
       "      <th>0</th>\n",
       "      <td>MRT กระทรวงสาธารณสุข</td>\n",
       "      <td>13.848567</td>\n",
       "      <td>100.514765</td>\n",
       "    </tr>\n",
       "    <tr>\n",
       "      <th>1</th>\n",
       "      <td>MRT กำแพงเพชร</td>\n",
       "      <td>13.798075</td>\n",
       "      <td>100.548796</td>\n",
       "    </tr>\n",
       "    <tr>\n",
       "      <th>2</th>\n",
       "      <td>MRT คลองเตย</td>\n",
       "      <td>13.732239</td>\n",
       "      <td>100.559747</td>\n",
       "    </tr>\n",
       "    <tr>\n",
       "      <th>3</th>\n",
       "      <td>MRT คลองบางไผ่</td>\n",
       "      <td>13.892353</td>\n",
       "      <td>100.408256</td>\n",
       "    </tr>\n",
       "    <tr>\n",
       "      <th>4</th>\n",
       "      <td>MRT จรัญฯ 13</td>\n",
       "      <td>13.740184</td>\n",
       "      <td>100.470797</td>\n",
       "    </tr>\n",
       "  </tbody>\n",
       "</table>\n",
       "</div>"
      ],
      "text/plain": [
       "                Station   Latitude   Longitude\n",
       "0  MRT กระทรวงสาธารณสุข  13.848567  100.514765\n",
       "1         MRT กำแพงเพชร  13.798075  100.548796\n",
       "2           MRT คลองเตย  13.732239  100.559747\n",
       "3        MRT คลองบางไผ่  13.892353  100.408256\n",
       "4          MRT จรัญฯ 13  13.740184  100.470797"
      ]
     },
     "execution_count": 3,
     "metadata": {},
     "output_type": "execute_result"
    }
   ],
   "source": [
    "geo_mrt_df = pd.read_csv('geo_mrt.csv')\n",
    "geo_mrt_df.drop('Unnamed: 3', axis=1, inplace= True)\n",
    "geo_mrt_df.drop('Unnamed: 4', axis=1, inplace= True)\n",
    "geo_mrt_df.drop('Unnamed: 5', axis=1, inplace= True)\n",
    "# geo_mrt_df\n",
    "geo_mrt_df.head()"
   ]
  },
  {
   "cell_type": "code",
   "execution_count": 5,
   "id": "1fafc4af",
   "metadata": {
    "tags": []
   },
   "outputs": [
    {
     "data": {
      "text/html": [
       "<div>\n",
       "<style scoped>\n",
       "    .dataframe tbody tr th:only-of-type {\n",
       "        vertical-align: middle;\n",
       "    }\n",
       "\n",
       "    .dataframe tbody tr th {\n",
       "        vertical-align: top;\n",
       "    }\n",
       "\n",
       "    .dataframe thead th {\n",
       "        text-align: right;\n",
       "    }\n",
       "</style>\n",
       "<table border=\"1\" class=\"dataframe\">\n",
       "  <thead>\n",
       "    <tr style=\"text-align: right;\">\n",
       "      <th></th>\n",
       "      <th>Station</th>\n",
       "      <th>Latitude</th>\n",
       "      <th>Longitude</th>\n",
       "    </tr>\n",
       "  </thead>\n",
       "  <tbody>\n",
       "    <tr>\n",
       "      <th>0</th>\n",
       "      <td>AIR PORT LINK LAT KBABANG</td>\n",
       "      <td>13.727712</td>\n",
       "      <td>100.747484</td>\n",
       "    </tr>\n",
       "    <tr>\n",
       "      <th>1</th>\n",
       "      <td>AIR PORT LINK BAN THAP CHANG</td>\n",
       "      <td>13.733105</td>\n",
       "      <td>100.688643</td>\n",
       "    </tr>\n",
       "    <tr>\n",
       "      <th>2</th>\n",
       "      <td>AIR PORT LINK HUA MAK</td>\n",
       "      <td>13.738046</td>\n",
       "      <td>100.645181</td>\n",
       "    </tr>\n",
       "    <tr>\n",
       "      <th>3</th>\n",
       "      <td>AIR PORT LINK RAMKHAMHAENG</td>\n",
       "      <td>13.742992</td>\n",
       "      <td>100.600147</td>\n",
       "    </tr>\n",
       "    <tr>\n",
       "      <th>4</th>\n",
       "      <td>AIR PORT LINK MAKKASAN</td>\n",
       "      <td>13.751029</td>\n",
       "      <td>100.561213</td>\n",
       "    </tr>\n",
       "    <tr>\n",
       "      <th>5</th>\n",
       "      <td>AIR PORT LINK RATCHAPRAROP</td>\n",
       "      <td>13.755022</td>\n",
       "      <td>100.542122</td>\n",
       "    </tr>\n",
       "    <tr>\n",
       "      <th>6</th>\n",
       "      <td>AIR PORT LINK PHAYA THAI</td>\n",
       "      <td>13.756738</td>\n",
       "      <td>100.534842</td>\n",
       "    </tr>\n",
       "    <tr>\n",
       "      <th>7</th>\n",
       "      <td>AIR PORT LINK SUVARNABHUMI</td>\n",
       "      <td>13.689999</td>\n",
       "      <td>100.750112</td>\n",
       "    </tr>\n",
       "  </tbody>\n",
       "</table>\n",
       "</div>"
      ],
      "text/plain": [
       "                        Station   Latitude   Longitude\n",
       "0     AIR PORT LINK LAT KBABANG  13.727712  100.747484\n",
       "1  AIR PORT LINK BAN THAP CHANG  13.733105  100.688643\n",
       "2         AIR PORT LINK HUA MAK  13.738046  100.645181\n",
       "3    AIR PORT LINK RAMKHAMHAENG  13.742992  100.600147\n",
       "4        AIR PORT LINK MAKKASAN  13.751029  100.561213\n",
       "5    AIR PORT LINK RATCHAPRAROP  13.755022  100.542122\n",
       "6      AIR PORT LINK PHAYA THAI  13.756738  100.534842\n",
       "7    AIR PORT LINK SUVARNABHUMI  13.689999  100.750112"
      ]
     },
     "execution_count": 5,
     "metadata": {},
     "output_type": "execute_result"
    }
   ],
   "source": [
    "geo_apl_df = pd.read_csv('geo_apl.csv')\n",
    "# geo_apl_df\n",
    "geo_apl_df"
   ]
  },
  {
   "cell_type": "code",
   "execution_count": 6,
   "id": "8ffba06f",
   "metadata": {},
   "outputs": [
    {
     "data": {
      "text/html": [
       "<div>\n",
       "<style scoped>\n",
       "    .dataframe tbody tr th:only-of-type {\n",
       "        vertical-align: middle;\n",
       "    }\n",
       "\n",
       "    .dataframe tbody tr th {\n",
       "        vertical-align: top;\n",
       "    }\n",
       "\n",
       "    .dataframe thead th {\n",
       "        text-align: right;\n",
       "    }\n",
       "</style>\n",
       "<table border=\"1\" class=\"dataframe\">\n",
       "  <thead>\n",
       "    <tr style=\"text-align: right;\">\n",
       "      <th></th>\n",
       "      <th>Latitude</th>\n",
       "      <th>Longitude</th>\n",
       "    </tr>\n",
       "    <tr>\n",
       "      <th>Station</th>\n",
       "      <th></th>\n",
       "      <th></th>\n",
       "    </tr>\n",
       "  </thead>\n",
       "  <tbody>\n",
       "    <tr>\n",
       "      <th>BTS คูคต</th>\n",
       "      <td>13.931680</td>\n",
       "      <td>100.643302</td>\n",
       "    </tr>\n",
       "    <tr>\n",
       "      <th>BTS แยก คปอ.</th>\n",
       "      <td>13.923586</td>\n",
       "      <td>100.625031</td>\n",
       "    </tr>\n",
       "    <tr>\n",
       "      <th>BTS พิพิธภัณฑ์กองทัพอากาศ</th>\n",
       "      <td>13.919899</td>\n",
       "      <td>100.621987</td>\n",
       "    </tr>\n",
       "    <tr>\n",
       "      <th>BTS โรงพยาบาลภูมิพลอดุลยเดช</th>\n",
       "      <td>13.909114</td>\n",
       "      <td>100.617736</td>\n",
       "    </tr>\n",
       "    <tr>\n",
       "      <th>BTS สะพานใหม่</th>\n",
       "      <td>13.896593</td>\n",
       "      <td>100.609129</td>\n",
       "    </tr>\n",
       "  </tbody>\n",
       "</table>\n",
       "</div>"
      ],
      "text/plain": [
       "                              Latitude   Longitude\n",
       "Station                                           \n",
       "BTS คูคต                     13.931680  100.643302\n",
       "BTS แยก คปอ.                 13.923586  100.625031\n",
       "BTS พิพิธภัณฑ์กองทัพอากาศ    13.919899  100.621987\n",
       "BTS โรงพยาบาลภูมิพลอดุลยเดช  13.909114  100.617736\n",
       "BTS สะพานใหม่                13.896593  100.609129"
      ]
     },
     "execution_count": 6,
     "metadata": {},
     "output_type": "execute_result"
    }
   ],
   "source": [
    "geo_df = geo_bts_df.append(geo_mrt_df, ignore_index= True)\n",
    "geo_df = geo_df.append(geo_apl_df, ignore_index= True)\n",
    "geo_df = geo_df.set_index('Station')\n",
    "geo_df.head()"
   ]
  },
  {
   "cell_type": "code",
   "execution_count": 7,
   "id": "132011aa",
   "metadata": {
    "tags": []
   },
   "outputs": [
    {
     "data": {
      "text/plain": [
       "121"
      ]
     },
     "execution_count": 7,
     "metadata": {},
     "output_type": "execute_result"
    }
   ],
   "source": [
    "stations = list(geo_df.index)\n",
    "len(stations)"
   ]
  },
  {
   "cell_type": "code",
   "execution_count": 8,
   "id": "71b39169",
   "metadata": {
    "tags": []
   },
   "outputs": [
    {
     "data": {
      "text/plain": [
       "14520"
      ]
     },
     "execution_count": 8,
     "metadata": {},
     "output_type": "execute_result"
    }
   ],
   "source": [
    "from_to = []\n",
    "for i in stations:\n",
    "    for j in stations:\n",
    "        if i == j:\n",
    "            continue\n",
    "        from_to += [[i,j]]\n",
    "\n",
    "len(from_to)"
   ]
  },
  {
   "cell_type": "code",
   "execution_count": 9,
   "id": "7575c508",
   "metadata": {
    "tags": []
   },
   "outputs": [
    {
     "name": "stdout",
     "output_type": "stream",
     "text": [
      "14520\n",
      "14520\n"
     ]
    }
   ],
   "source": [
    "origins = []\n",
    "destination = []\n",
    "for i in from_to:\n",
    "    origins += [i[0]]\n",
    "    destination += [i[1]]\n",
    "\n",
    "print(len(origins))\n",
    "print(len(destination))"
   ]
  },
  {
   "cell_type": "code",
   "execution_count": 10,
   "id": "914ff694",
   "metadata": {},
   "outputs": [],
   "source": [
    "def geo_dist(A,B):\n",
    "    locA = [ float(geo_df.at[A,'Latitude']), float(geo_df.at[A,'Longitude']) ]\n",
    "    locB = [ float(geo_df.at[B,'Latitude']), float(geo_df.at[B,'Longitude']) ]\n",
    "    distance = hs.haversine(locA,locB)*1000\n",
    "    return distance"
   ]
  },
  {
   "cell_type": "code",
   "execution_count": 11,
   "id": "024ef5d2",
   "metadata": {},
   "outputs": [
    {
     "data": {
      "text/plain": [
       "14520"
      ]
     },
     "execution_count": 11,
     "metadata": {},
     "output_type": "execute_result"
    }
   ],
   "source": [
    "distance = []\n",
    "for i, j in zip(origins, destination):\n",
    "    distance.append(geo_dist(i,j))\n",
    "        \n",
    "len(distance)"
   ]
  },
  {
   "cell_type": "code",
   "execution_count": 12,
   "id": "d745a483",
   "metadata": {},
   "outputs": [
    {
     "data": {
      "text/html": [
       "<div>\n",
       "<style scoped>\n",
       "    .dataframe tbody tr th:only-of-type {\n",
       "        vertical-align: middle;\n",
       "    }\n",
       "\n",
       "    .dataframe tbody tr th {\n",
       "        vertical-align: top;\n",
       "    }\n",
       "\n",
       "    .dataframe thead th {\n",
       "        text-align: right;\n",
       "    }\n",
       "</style>\n",
       "<table border=\"1\" class=\"dataframe\">\n",
       "  <thead>\n",
       "    <tr style=\"text-align: right;\">\n",
       "      <th></th>\n",
       "      <th>origins</th>\n",
       "      <th>destination</th>\n",
       "      <th>distance</th>\n",
       "    </tr>\n",
       "  </thead>\n",
       "  <tbody>\n",
       "    <tr>\n",
       "      <th>14505</th>\n",
       "      <td>AIR PORT LINK SUVARNABHUMI</td>\n",
       "      <td>MRT สิรินธร</td>\n",
       "      <td>29582.839580</td>\n",
       "    </tr>\n",
       "    <tr>\n",
       "      <th>14506</th>\n",
       "      <td>AIR PORT LINK SUVARNABHUMI</td>\n",
       "      <td>MRT สีลม</td>\n",
       "      <td>23480.309762</td>\n",
       "    </tr>\n",
       "    <tr>\n",
       "      <th>14507</th>\n",
       "      <td>AIR PORT LINK SUVARNABHUMI</td>\n",
       "      <td>MRT สุขุมวิท</td>\n",
       "      <td>21082.746885</td>\n",
       "    </tr>\n",
       "    <tr>\n",
       "      <th>14508</th>\n",
       "      <td>AIR PORT LINK SUVARNABHUMI</td>\n",
       "      <td>MRT สุทธิสาร</td>\n",
       "      <td>22008.837393</td>\n",
       "    </tr>\n",
       "    <tr>\n",
       "      <th>14509</th>\n",
       "      <td>AIR PORT LINK SUVARNABHUMI</td>\n",
       "      <td>MRT หลักสอง</td>\n",
       "      <td>39469.475505</td>\n",
       "    </tr>\n",
       "    <tr>\n",
       "      <th>14510</th>\n",
       "      <td>AIR PORT LINK SUVARNABHUMI</td>\n",
       "      <td>MRT ห้วยขวาง</td>\n",
       "      <td>21330.347598</td>\n",
       "    </tr>\n",
       "    <tr>\n",
       "      <th>14511</th>\n",
       "      <td>AIR PORT LINK SUVARNABHUMI</td>\n",
       "      <td>MRT หัวลำโพง</td>\n",
       "      <td>25719.694331</td>\n",
       "    </tr>\n",
       "    <tr>\n",
       "      <th>14512</th>\n",
       "      <td>AIR PORT LINK SUVARNABHUMI</td>\n",
       "      <td>MRT อิสรภาพ</td>\n",
       "      <td>29107.822424</td>\n",
       "    </tr>\n",
       "    <tr>\n",
       "      <th>14513</th>\n",
       "      <td>AIR PORT LINK SUVARNABHUMI</td>\n",
       "      <td>AIR PORT LINK LAT KBABANG</td>\n",
       "      <td>4203.123200</td>\n",
       "    </tr>\n",
       "    <tr>\n",
       "      <th>14514</th>\n",
       "      <td>AIR PORT LINK SUVARNABHUMI</td>\n",
       "      <td>AIR PORT LINK BAN THAP CHANG</td>\n",
       "      <td>8189.546074</td>\n",
       "    </tr>\n",
       "    <tr>\n",
       "      <th>14515</th>\n",
       "      <td>AIR PORT LINK SUVARNABHUMI</td>\n",
       "      <td>AIR PORT LINK HUA MAK</td>\n",
       "      <td>12531.139329</td>\n",
       "    </tr>\n",
       "    <tr>\n",
       "      <th>14516</th>\n",
       "      <td>AIR PORT LINK SUVARNABHUMI</td>\n",
       "      <td>AIR PORT LINK RAMKHAMHAENG</td>\n",
       "      <td>17238.225026</td>\n",
       "    </tr>\n",
       "    <tr>\n",
       "      <th>14517</th>\n",
       "      <td>AIR PORT LINK SUVARNABHUMI</td>\n",
       "      <td>AIR PORT LINK MAKKASAN</td>\n",
       "      <td>21504.190980</td>\n",
       "    </tr>\n",
       "    <tr>\n",
       "      <th>14518</th>\n",
       "      <td>AIR PORT LINK SUVARNABHUMI</td>\n",
       "      <td>AIR PORT LINK RATCHAPRAROP</td>\n",
       "      <td>23602.057085</td>\n",
       "    </tr>\n",
       "    <tr>\n",
       "      <th>14519</th>\n",
       "      <td>AIR PORT LINK SUVARNABHUMI</td>\n",
       "      <td>AIR PORT LINK PHAYA THAI</td>\n",
       "      <td>24409.086671</td>\n",
       "    </tr>\n",
       "  </tbody>\n",
       "</table>\n",
       "</div>"
      ],
      "text/plain": [
       "                          origins                   destination      distance\n",
       "14505  AIR PORT LINK SUVARNABHUMI                   MRT สิรินธร  29582.839580\n",
       "14506  AIR PORT LINK SUVARNABHUMI                      MRT สีลม  23480.309762\n",
       "14507  AIR PORT LINK SUVARNABHUMI                  MRT สุขุมวิท  21082.746885\n",
       "14508  AIR PORT LINK SUVARNABHUMI                  MRT สุทธิสาร  22008.837393\n",
       "14509  AIR PORT LINK SUVARNABHUMI                   MRT หลักสอง  39469.475505\n",
       "14510  AIR PORT LINK SUVARNABHUMI                  MRT ห้วยขวาง  21330.347598\n",
       "14511  AIR PORT LINK SUVARNABHUMI                  MRT หัวลำโพง  25719.694331\n",
       "14512  AIR PORT LINK SUVARNABHUMI                   MRT อิสรภาพ  29107.822424\n",
       "14513  AIR PORT LINK SUVARNABHUMI     AIR PORT LINK LAT KBABANG   4203.123200\n",
       "14514  AIR PORT LINK SUVARNABHUMI  AIR PORT LINK BAN THAP CHANG   8189.546074\n",
       "14515  AIR PORT LINK SUVARNABHUMI         AIR PORT LINK HUA MAK  12531.139329\n",
       "14516  AIR PORT LINK SUVARNABHUMI    AIR PORT LINK RAMKHAMHAENG  17238.225026\n",
       "14517  AIR PORT LINK SUVARNABHUMI        AIR PORT LINK MAKKASAN  21504.190980\n",
       "14518  AIR PORT LINK SUVARNABHUMI    AIR PORT LINK RATCHAPRAROP  23602.057085\n",
       "14519  AIR PORT LINK SUVARNABHUMI      AIR PORT LINK PHAYA THAI  24409.086671"
      ]
     },
     "execution_count": 12,
     "metadata": {},
     "output_type": "execute_result"
    }
   ],
   "source": [
    "geo_data = {'origins': origins,\n",
    "        'destination': destination,\n",
    "        'distance': distance\n",
    "       }\n",
    "geo_distance = pd.DataFrame(geo_data)\n",
    "geo_distance.tail(15)"
   ]
  },
  {
   "cell_type": "code",
   "execution_count": 13,
   "id": "427854fd",
   "metadata": {},
   "outputs": [],
   "source": [
    "geo_distance.to_json('nodes-geo_dist.json', orient=\"records\")"
   ]
  },
  {
   "cell_type": "code",
   "execution_count": null,
   "id": "5ca5c998",
   "metadata": {},
   "outputs": [],
   "source": []
  }
 ],
 "metadata": {
  "interpreter": {
   "hash": "dca0ade3e726a953b501b15e8e990130d2b7799f14cfd9f4271676035ebe5511"
  },
  "kernelspec": {
   "display_name": "Python 3",
   "language": "python",
   "name": "python3"
  },
  "language_info": {
   "codemirror_mode": {
    "name": "ipython",
    "version": 3
   },
   "file_extension": ".py",
   "mimetype": "text/x-python",
   "name": "python",
   "nbconvert_exporter": "python",
   "pygments_lexer": "ipython3",
   "version": "3.8.8"
  }
 },
 "nbformat": 4,
 "nbformat_minor": 5
}
